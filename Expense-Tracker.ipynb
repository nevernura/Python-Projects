{
 "cells": [
  {
   "cell_type": "code",
   "execution_count": 1,
   "id": "e635798a-8ee5-47e6-9c2c-18feef3c2d11",
   "metadata": {},
   "outputs": [],
   "source": [
    "expenses = []"
   ]
  },
  {
   "cell_type": "code",
   "execution_count": 43,
   "id": "25b6505e-7fb9-4144-9c46-0a8e73f8bdf3",
   "metadata": {},
   "outputs": [],
   "source": [
    "def add_expense(expenses):\n",
    "    amount = float(input(\"Enter expense amount: \"))\n",
    "    category = input(\"Enter category: \")\n",
    "    description = input(\"Enter a description: \")\n",
    "    expense = {\"amount\": amount, \"category\": category, \"description\":description}\n",
    "    expenses.append(expense)\n",
    "    print(\"Expense added!\")"
   ]
  },
  {
   "cell_type": "code",
   "execution_count": 45,
   "id": "1da1d922-0d7e-4a3f-8edc-694edca4714a",
   "metadata": {},
   "outputs": [],
   "source": [
    "def view_expenses(expenses):\n",
    "    print(\"\\nAll Expense:\")\n",
    "    for index, expense in enumerate(expenses):\n",
    "        print(f\"{index+1}. {expense['amount']} - {expense['category']} - {expense['description']}\")"
   ]
  },
  {
   "cell_type": "code",
   "execution_count": 47,
   "id": "a9dfc280-f4dd-4c56-9da4-3baf1bf75c11",
   "metadata": {},
   "outputs": [],
   "source": [
    "def total_expenses(expenses):\n",
    "    total = sum(expense['amount'] for expense in expenses)\n",
    "    print(f\"Total Expenses: {total}\")"
   ]
  },
  {
   "cell_type": "code",
   "execution_count": 49,
   "id": "2a184243-690a-4509-8551-e789ccb4be2c",
   "metadata": {},
   "outputs": [],
   "source": [
    "def category_summary(expenses):\n",
    "    summary = {}\n",
    "    for expense in expenses:\n",
    "        category = expense['category']\n",
    "        summary[category] = summary.get(category, 0) + expense['amount']\n",
    "    print(\"\\nCategory Summary:\")\n",
    "    for category, total in summary.items():\n",
    "        print(f\"{category} : {total}\")"
   ]
  },
  {
   "cell_type": "code",
   "execution_count": 51,
   "id": "57bf525a-d175-4be3-9075-6f26d5890e13",
   "metadata": {},
   "outputs": [],
   "source": [
    "def remove_expense(expenses):\n",
    "    view_expenses(expense)\n",
    "    index = int(input(\"Enter the number of the expense to remove: \")) - 1\n",
    "    if 0 <= index <= len(expenses):\n",
    "        expenses.pop(index)\n",
    "        print(\"Expense removed!\")\n",
    "    else:\n",
    "        print(\"Invalid index!\")"
   ]
  },
  {
   "cell_type": "code",
   "execution_count": 53,
   "id": "f0933646-2eec-4dc3-9006-b3e5c6b6b176",
   "metadata": {},
   "outputs": [
    {
     "name": "stdout",
     "output_type": "stream",
     "text": [
      "\n",
      "Expense Tracker\n",
      "1. Add Expense\n",
      "2. View All Expenses\n",
      "3. Total Expenses\n",
      "4. Category Summary\n",
      "5. Remove Expense\n",
      "6. Exit\n"
     ]
    },
    {
     "name": "stdin",
     "output_type": "stream",
     "text": [
      "Choose an option:  2\n"
     ]
    },
    {
     "name": "stdout",
     "output_type": "stream",
     "text": [
      "\n",
      "All Expense:\n",
      "\n",
      "Expense Tracker\n",
      "1. Add Expense\n",
      "2. View All Expenses\n",
      "3. Total Expenses\n",
      "4. Category Summary\n",
      "5. Remove Expense\n",
      "6. Exit\n"
     ]
    },
    {
     "name": "stdin",
     "output_type": "stream",
     "text": [
      "Choose an option:  1\n",
      "Enter expense amount:  10000\n",
      "Enter category:  Cat\n",
      "Enter a description:  Food\n"
     ]
    },
    {
     "name": "stdout",
     "output_type": "stream",
     "text": [
      "Expense added!\n",
      "\n",
      "Expense Tracker\n",
      "1. Add Expense\n",
      "2. View All Expenses\n",
      "3. Total Expenses\n",
      "4. Category Summary\n",
      "5. Remove Expense\n",
      "6. Exit\n"
     ]
    },
    {
     "name": "stdin",
     "output_type": "stream",
     "text": [
      "Choose an option:  2\n"
     ]
    },
    {
     "name": "stdout",
     "output_type": "stream",
     "text": [
      "\n",
      "All Expense:\n",
      "1. 10000.0 - Cat - Food\n",
      "\n",
      "Expense Tracker\n",
      "1. Add Expense\n",
      "2. View All Expenses\n",
      "3. Total Expenses\n",
      "4. Category Summary\n",
      "5. Remove Expense\n",
      "6. Exit\n"
     ]
    },
    {
     "name": "stdin",
     "output_type": "stream",
     "text": [
      "Choose an option:  3\n"
     ]
    },
    {
     "name": "stdout",
     "output_type": "stream",
     "text": [
      "Total Expenses: 10000.0\n",
      "\n",
      "Expense Tracker\n",
      "1. Add Expense\n",
      "2. View All Expenses\n",
      "3. Total Expenses\n",
      "4. Category Summary\n",
      "5. Remove Expense\n",
      "6. Exit\n"
     ]
    },
    {
     "name": "stdin",
     "output_type": "stream",
     "text": [
      "Choose an option:  4\n"
     ]
    },
    {
     "name": "stdout",
     "output_type": "stream",
     "text": [
      "\n",
      "Category Summary:\n",
      "Cat : 10000.0\n",
      "\n",
      "Expense Tracker\n",
      "1. Add Expense\n",
      "2. View All Expenses\n",
      "3. Total Expenses\n",
      "4. Category Summary\n",
      "5. Remove Expense\n",
      "6. Exit\n"
     ]
    },
    {
     "name": "stdin",
     "output_type": "stream",
     "text": [
      "Choose an option:  5\n"
     ]
    },
    {
     "ename": "NameError",
     "evalue": "name 'expense' is not defined",
     "output_type": "error",
     "traceback": [
      "\u001b[0;31m---------------------------------------------------------------------------\u001b[0m",
      "\u001b[0;31mNameError\u001b[0m                                 Traceback (most recent call last)",
      "Cell \u001b[0;32mIn[53], line 30\u001b[0m\n\u001b[1;32m     27\u001b[0m             \u001b[38;5;28mprint\u001b[39m(\u001b[38;5;124m\"\u001b[39m\u001b[38;5;124mInvalid option, please try again.\u001b[39m\u001b[38;5;124m\"\u001b[39m)\n\u001b[1;32m     29\u001b[0m \u001b[38;5;28;01mif\u001b[39;00m \u001b[38;5;18m__name__\u001b[39m \u001b[38;5;241m==\u001b[39m \u001b[38;5;124m\"\u001b[39m\u001b[38;5;124m__main__\u001b[39m\u001b[38;5;124m\"\u001b[39m:\n\u001b[0;32m---> 30\u001b[0m     main()\n",
      "Cell \u001b[0;32mIn[53], line 23\u001b[0m, in \u001b[0;36mmain\u001b[0;34m()\u001b[0m\n\u001b[1;32m     21\u001b[0m     category_summary(expenses)\n\u001b[1;32m     22\u001b[0m \u001b[38;5;28;01melif\u001b[39;00m choice \u001b[38;5;241m==\u001b[39m \u001b[38;5;124m'\u001b[39m\u001b[38;5;124m5\u001b[39m\u001b[38;5;124m'\u001b[39m:\n\u001b[0;32m---> 23\u001b[0m     remove_expense(expenses)\n\u001b[1;32m     24\u001b[0m \u001b[38;5;28;01melif\u001b[39;00m choice \u001b[38;5;241m==\u001b[39m \u001b[38;5;124m'\u001b[39m\u001b[38;5;124m6\u001b[39m\u001b[38;5;124m'\u001b[39m:\n\u001b[1;32m     25\u001b[0m     \u001b[38;5;28;01mbreak\u001b[39;00m\n",
      "Cell \u001b[0;32mIn[51], line 2\u001b[0m, in \u001b[0;36mremove_expense\u001b[0;34m(expenses)\u001b[0m\n\u001b[1;32m      1\u001b[0m \u001b[38;5;28;01mdef\u001b[39;00m \u001b[38;5;21mremove_expense\u001b[39m(expenses):\n\u001b[0;32m----> 2\u001b[0m     view_expenses(expense)\n\u001b[1;32m      3\u001b[0m     index \u001b[38;5;241m=\u001b[39m \u001b[38;5;28mint\u001b[39m(\u001b[38;5;28minput\u001b[39m(\u001b[38;5;124m\"\u001b[39m\u001b[38;5;124mEnter the number of the expense to remove: \u001b[39m\u001b[38;5;124m\"\u001b[39m)) \u001b[38;5;241m-\u001b[39m \u001b[38;5;241m1\u001b[39m\n\u001b[1;32m      4\u001b[0m     \u001b[38;5;28;01mif\u001b[39;00m \u001b[38;5;241m0\u001b[39m \u001b[38;5;241m<\u001b[39m\u001b[38;5;241m=\u001b[39m index \u001b[38;5;241m<\u001b[39m\u001b[38;5;241m=\u001b[39m \u001b[38;5;28mlen\u001b[39m(expenses):\n",
      "\u001b[0;31mNameError\u001b[0m: name 'expense' is not defined"
     ]
    }
   ],
   "source": [
    "def main():\n",
    "    expenses = []\n",
    "    while True:\n",
    "        print(\"\\nExpense Tracker\")\n",
    "        print(\"1. Add Expense\")\n",
    "        print(\"2. View All Expenses\")\n",
    "        print(\"3. Total Expenses\")\n",
    "        print(\"4. Category Summary\")\n",
    "        print(\"5. Remove Expense\")\n",
    "        print(\"6. Exit\")\n",
    "        \n",
    "        choice = input(\"Choose an option: \")\n",
    "        \n",
    "        if choice == '1':\n",
    "            add_expense(expenses)\n",
    "        elif choice == '2':\n",
    "            view_expenses(expenses)\n",
    "        elif choice == '3':\n",
    "            total_expenses(expenses)\n",
    "        elif choice == '4':\n",
    "            category_summary(expenses)\n",
    "        elif choice == '5':\n",
    "            remove_expense(expenses)\n",
    "        elif choice == '6':\n",
    "            break\n",
    "        else:\n",
    "            print(\"Invalid option, please try again.\")\n",
    "\n",
    "if __name__ == \"__main__\":\n",
    "    main()"
   ]
  },
  {
   "cell_type": "code",
   "execution_count": null,
   "id": "67f28963-bbad-47e9-93e2-5ebf6803ed31",
   "metadata": {},
   "outputs": [],
   "source": []
  }
 ],
 "metadata": {
  "kernelspec": {
   "display_name": "Python 3 (ipykernel)",
   "language": "python",
   "name": "python3"
  },
  "language_info": {
   "codemirror_mode": {
    "name": "ipython",
    "version": 3
   },
   "file_extension": ".py",
   "mimetype": "text/x-python",
   "name": "python",
   "nbconvert_exporter": "python",
   "pygments_lexer": "ipython3",
   "version": "3.12.4"
  }
 },
 "nbformat": 4,
 "nbformat_minor": 5
}
